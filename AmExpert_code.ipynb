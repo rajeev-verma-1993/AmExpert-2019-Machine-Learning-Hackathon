{
 "cells": [
  {
   "cell_type": "code",
   "execution_count": 1,
   "metadata": {},
   "outputs": [],
   "source": [
    "import warnings\n",
    "warnings.filterwarnings('ignore')\n",
    "import pandas as pd\n",
    "import numpy as np\n",
    "import matplotlib.pyplot as plt\n",
    "import seaborn as sns\n",
    "%matplotlib inline"
   ]
  },
  {
   "cell_type": "markdown",
   "metadata": {},
   "source": [
    "***Using Merged dataset***"
   ]
  },
  {
   "cell_type": "code",
   "execution_count": 2,
   "metadata": {},
   "outputs": [],
   "source": [
    "train=pd.read_csv('train_processed4.csv')\n",
    "test=pd.read_csv('test_processed4.csv')"
   ]
  },
  {
   "cell_type": "code",
   "execution_count": 3,
   "metadata": {},
   "outputs": [
    {
     "name": "stdout",
     "output_type": "stream",
     "text": [
      "Shape of Train dataset (78369, 23)\n",
      "Shape of Test dataset (50226, 20)\n"
     ]
    }
   ],
   "source": [
    "print('Shape of Train dataset {}'.format(train.shape))\n",
    "print('Shape of Test dataset {}'.format(test.shape))"
   ]
  },
  {
   "cell_type": "code",
   "execution_count": 4,
   "metadata": {},
   "outputs": [
    {
     "name": "stdout",
     "output_type": "stream",
     "text": [
      "redemption_status\n",
      "coupon_discount_med\n",
      "campaign_period\n"
     ]
    }
   ],
   "source": [
    "for i in train.columns:\n",
    "    if i not in test.columns:\n",
    "        print(i)"
   ]
  },
  {
   "cell_type": "code",
   "execution_count": 5,
   "metadata": {},
   "outputs": [],
   "source": [
    "for i in test.columns:\n",
    "    if i not in train.columns:\n",
    "        print(i)"
   ]
  },
  {
   "cell_type": "markdown",
   "metadata": {},
   "source": [
    "We know that redemption Status is our target variable, so we need to predict redemption status for test dataset."
   ]
  },
  {
   "cell_type": "code",
   "execution_count": 6,
   "metadata": {},
   "outputs": [
    {
     "data": {
      "text/html": [
       "<div>\n",
       "<style scoped>\n",
       "    .dataframe tbody tr th:only-of-type {\n",
       "        vertical-align: middle;\n",
       "    }\n",
       "\n",
       "    .dataframe tbody tr th {\n",
       "        vertical-align: top;\n",
       "    }\n",
       "\n",
       "    .dataframe thead th {\n",
       "        text-align: right;\n",
       "    }\n",
       "</style>\n",
       "<table border=\"1\" class=\"dataframe\">\n",
       "  <thead>\n",
       "    <tr style=\"text-align: right;\">\n",
       "      <th></th>\n",
       "      <th>id</th>\n",
       "      <th>campaign_id</th>\n",
       "      <th>coupon_id</th>\n",
       "      <th>customer_id</th>\n",
       "      <th>redemption_status</th>\n",
       "      <th>age_range</th>\n",
       "      <th>rented</th>\n",
       "      <th>family_size</th>\n",
       "      <th>income_bracket</th>\n",
       "      <th>no_of_children</th>\n",
       "      <th>...</th>\n",
       "      <th>end_date</th>\n",
       "      <th>no_of_redemptions</th>\n",
       "      <th>coupon_discount_med</th>\n",
       "      <th>category_mod</th>\n",
       "      <th>campaign_period</th>\n",
       "      <th>coupon_discount_mean</th>\n",
       "      <th>other_discount_mean</th>\n",
       "      <th>quantity</th>\n",
       "      <th>brand_type</th>\n",
       "      <th>no_of_redemptions_real</th>\n",
       "    </tr>\n",
       "  </thead>\n",
       "  <tbody>\n",
       "    <tr>\n",
       "      <th>0</th>\n",
       "      <td>1</td>\n",
       "      <td>13</td>\n",
       "      <td>27</td>\n",
       "      <td>1053</td>\n",
       "      <td>0</td>\n",
       "      <td>3.0</td>\n",
       "      <td>0.0</td>\n",
       "      <td>0.0</td>\n",
       "      <td>4.0</td>\n",
       "      <td>1</td>\n",
       "      <td>...</td>\n",
       "      <td>2013-07-06</td>\n",
       "      <td>1</td>\n",
       "      <td>-89.05</td>\n",
       "      <td>Grocery</td>\n",
       "      <td>75 days 00:00:00.000000000</td>\n",
       "      <td>-89.05</td>\n",
       "      <td>-78.01</td>\n",
       "      <td>1.0</td>\n",
       "      <td>Established</td>\n",
       "      <td>0</td>\n",
       "    </tr>\n",
       "    <tr>\n",
       "      <th>1</th>\n",
       "      <td>2</td>\n",
       "      <td>13</td>\n",
       "      <td>116</td>\n",
       "      <td>48</td>\n",
       "      <td>0</td>\n",
       "      <td>2.0</td>\n",
       "      <td>0.0</td>\n",
       "      <td>1.0</td>\n",
       "      <td>2.0</td>\n",
       "      <td>1</td>\n",
       "      <td>...</td>\n",
       "      <td>2013-07-06</td>\n",
       "      <td>0</td>\n",
       "      <td>0.00</td>\n",
       "      <td>Grocery</td>\n",
       "      <td>75 days 00:00:00.000000000</td>\n",
       "      <td>0.00</td>\n",
       "      <td>0.00</td>\n",
       "      <td>1.0</td>\n",
       "      <td>Established</td>\n",
       "      <td>0</td>\n",
       "    </tr>\n",
       "    <tr>\n",
       "      <th>2</th>\n",
       "      <td>6</td>\n",
       "      <td>9</td>\n",
       "      <td>635</td>\n",
       "      <td>205</td>\n",
       "      <td>0</td>\n",
       "      <td>3.0</td>\n",
       "      <td>0.0</td>\n",
       "      <td>1.0</td>\n",
       "      <td>6.0</td>\n",
       "      <td>1</td>\n",
       "      <td>...</td>\n",
       "      <td>2013-07-06</td>\n",
       "      <td>1</td>\n",
       "      <td>-12.47</td>\n",
       "      <td>Pharmaceutical</td>\n",
       "      <td>75 days 00:00:00.000000000</td>\n",
       "      <td>-12.47</td>\n",
       "      <td>0.00</td>\n",
       "      <td>1.0</td>\n",
       "      <td>Established</td>\n",
       "      <td>1</td>\n",
       "    </tr>\n",
       "    <tr>\n",
       "      <th>3</th>\n",
       "      <td>7</td>\n",
       "      <td>13</td>\n",
       "      <td>644</td>\n",
       "      <td>1050</td>\n",
       "      <td>0</td>\n",
       "      <td>3.0</td>\n",
       "      <td>0.0</td>\n",
       "      <td>1.0</td>\n",
       "      <td>4.0</td>\n",
       "      <td>3.0</td>\n",
       "      <td>...</td>\n",
       "      <td>2013-07-06</td>\n",
       "      <td>0</td>\n",
       "      <td>0.00</td>\n",
       "      <td>Grocery</td>\n",
       "      <td>75 days 00:00:00.000000000</td>\n",
       "      <td>0.00</td>\n",
       "      <td>0.00</td>\n",
       "      <td>1.0</td>\n",
       "      <td>Established</td>\n",
       "      <td>0</td>\n",
       "    </tr>\n",
       "    <tr>\n",
       "      <th>4</th>\n",
       "      <td>9</td>\n",
       "      <td>8</td>\n",
       "      <td>1017</td>\n",
       "      <td>1489</td>\n",
       "      <td>0</td>\n",
       "      <td>3.0</td>\n",
       "      <td>0.0</td>\n",
       "      <td>1.0</td>\n",
       "      <td>2.0</td>\n",
       "      <td>1</td>\n",
       "      <td>...</td>\n",
       "      <td>2013-07-06</td>\n",
       "      <td>1</td>\n",
       "      <td>-17.81</td>\n",
       "      <td>Grocery</td>\n",
       "      <td>75 days 00:00:00.000000000</td>\n",
       "      <td>-17.81</td>\n",
       "      <td>-56.28</td>\n",
       "      <td>2.0</td>\n",
       "      <td>Established</td>\n",
       "      <td>0</td>\n",
       "    </tr>\n",
       "  </tbody>\n",
       "</table>\n",
       "<p>5 rows × 23 columns</p>\n",
       "</div>"
      ],
      "text/plain": [
       "   id  campaign_id  coupon_id  customer_id  redemption_status  age_range  \\\n",
       "0   1           13         27         1053                  0        3.0   \n",
       "1   2           13        116           48                  0        2.0   \n",
       "2   6            9        635          205                  0        3.0   \n",
       "3   7           13        644         1050                  0        3.0   \n",
       "4   9            8       1017         1489                  0        3.0   \n",
       "\n",
       "   rented  family_size  income_bracket no_of_children  ...    end_date  \\\n",
       "0     0.0          0.0             4.0              1  ...  2013-07-06   \n",
       "1     0.0          1.0             2.0              1  ...  2013-07-06   \n",
       "2     0.0          1.0             6.0              1  ...  2013-07-06   \n",
       "3     0.0          1.0             4.0            3.0  ...  2013-07-06   \n",
       "4     0.0          1.0             2.0              1  ...  2013-07-06   \n",
       "\n",
       "  no_of_redemptions coupon_discount_med    category_mod  \\\n",
       "0                 1              -89.05         Grocery   \n",
       "1                 0                0.00         Grocery   \n",
       "2                 1              -12.47  Pharmaceutical   \n",
       "3                 0                0.00         Grocery   \n",
       "4                 1              -17.81         Grocery   \n",
       "\n",
       "              campaign_period  coupon_discount_mean other_discount_mean  \\\n",
       "0  75 days 00:00:00.000000000                -89.05              -78.01   \n",
       "1  75 days 00:00:00.000000000                  0.00                0.00   \n",
       "2  75 days 00:00:00.000000000                -12.47                0.00   \n",
       "3  75 days 00:00:00.000000000                  0.00                0.00   \n",
       "4  75 days 00:00:00.000000000                -17.81              -56.28   \n",
       "\n",
       "  quantity   brand_type  no_of_redemptions_real  \n",
       "0      1.0  Established                       0  \n",
       "1      1.0  Established                       0  \n",
       "2      1.0  Established                       1  \n",
       "3      1.0  Established                       0  \n",
       "4      2.0  Established                       0  \n",
       "\n",
       "[5 rows x 23 columns]"
      ]
     },
     "execution_count": 6,
     "metadata": {},
     "output_type": "execute_result"
    }
   ],
   "source": [
    "train.head()"
   ]
  },
  {
   "cell_type": "code",
   "execution_count": 7,
   "metadata": {},
   "outputs": [
    {
     "data": {
      "text/html": [
       "<div>\n",
       "<style scoped>\n",
       "    .dataframe tbody tr th:only-of-type {\n",
       "        vertical-align: middle;\n",
       "    }\n",
       "\n",
       "    .dataframe tbody tr th {\n",
       "        vertical-align: top;\n",
       "    }\n",
       "\n",
       "    .dataframe thead th {\n",
       "        text-align: right;\n",
       "    }\n",
       "</style>\n",
       "<table border=\"1\" class=\"dataframe\">\n",
       "  <thead>\n",
       "    <tr style=\"text-align: right;\">\n",
       "      <th></th>\n",
       "      <th>id</th>\n",
       "      <th>campaign_id</th>\n",
       "      <th>coupon_id</th>\n",
       "      <th>customer_id</th>\n",
       "      <th>age_range</th>\n",
       "      <th>rented</th>\n",
       "      <th>family_size</th>\n",
       "      <th>income_bracket</th>\n",
       "      <th>no_of_children</th>\n",
       "      <th>marital_status</th>\n",
       "      <th>no_of_redemptions</th>\n",
       "      <th>category_mod</th>\n",
       "      <th>other_discount_mean</th>\n",
       "      <th>quantity</th>\n",
       "      <th>brand_type</th>\n",
       "      <th>coupon_discount_mean</th>\n",
       "      <th>campaign_type</th>\n",
       "      <th>start_date</th>\n",
       "      <th>end_date</th>\n",
       "      <th>no_of_redemptions_real</th>\n",
       "    </tr>\n",
       "  </thead>\n",
       "  <tbody>\n",
       "    <tr>\n",
       "      <th>0</th>\n",
       "      <td>3</td>\n",
       "      <td>22</td>\n",
       "      <td>869</td>\n",
       "      <td>967</td>\n",
       "      <td>2.0</td>\n",
       "      <td>0.0</td>\n",
       "      <td>0.0</td>\n",
       "      <td>4.0</td>\n",
       "      <td>1</td>\n",
       "      <td>Single</td>\n",
       "      <td>1078</td>\n",
       "      <td>Grocery</td>\n",
       "      <td>-8.293571</td>\n",
       "      <td>1.0</td>\n",
       "      <td>1.0</td>\n",
       "      <td>-23.025714</td>\n",
       "      <td>X</td>\n",
       "      <td>2013-09-16</td>\n",
       "      <td>2013-10-18</td>\n",
       "      <td>3</td>\n",
       "    </tr>\n",
       "    <tr>\n",
       "      <th>1</th>\n",
       "      <td>4</td>\n",
       "      <td>20</td>\n",
       "      <td>389</td>\n",
       "      <td>1566</td>\n",
       "      <td>1.0</td>\n",
       "      <td>0.0</td>\n",
       "      <td>1.0</td>\n",
       "      <td>8.0</td>\n",
       "      <td>1</td>\n",
       "      <td>Single</td>\n",
       "      <td>108</td>\n",
       "      <td>Grocery</td>\n",
       "      <td>-78.010000</td>\n",
       "      <td>1.5</td>\n",
       "      <td>1.0</td>\n",
       "      <td>-62.335000</td>\n",
       "      <td>Y</td>\n",
       "      <td>2013-07-09</td>\n",
       "      <td>2013-11-16</td>\n",
       "      <td>0</td>\n",
       "    </tr>\n",
       "    <tr>\n",
       "      <th>2</th>\n",
       "      <td>5</td>\n",
       "      <td>22</td>\n",
       "      <td>981</td>\n",
       "      <td>510</td>\n",
       "      <td>1.0</td>\n",
       "      <td>0.0</td>\n",
       "      <td>1.0</td>\n",
       "      <td>0.0</td>\n",
       "      <td>1</td>\n",
       "      <td>Single</td>\n",
       "      <td>336</td>\n",
       "      <td>Grocery</td>\n",
       "      <td>-99.140000</td>\n",
       "      <td>1.0</td>\n",
       "      <td>1.0</td>\n",
       "      <td>-53.430000</td>\n",
       "      <td>X</td>\n",
       "      <td>2013-09-16</td>\n",
       "      <td>2013-10-18</td>\n",
       "      <td>7</td>\n",
       "    </tr>\n",
       "    <tr>\n",
       "      <th>3</th>\n",
       "      <td>8</td>\n",
       "      <td>25</td>\n",
       "      <td>1069</td>\n",
       "      <td>361</td>\n",
       "      <td>0.0</td>\n",
       "      <td>0.0</td>\n",
       "      <td>0.0</td>\n",
       "      <td>2.0</td>\n",
       "      <td>1</td>\n",
       "      <td>Single</td>\n",
       "      <td>0</td>\n",
       "      <td>Grocery</td>\n",
       "      <td>0.000000</td>\n",
       "      <td>1.0</td>\n",
       "      <td>1.0</td>\n",
       "      <td>0.000000</td>\n",
       "      <td>Y</td>\n",
       "      <td>2013-10-21</td>\n",
       "      <td>2013-11-22</td>\n",
       "      <td>0</td>\n",
       "    </tr>\n",
       "    <tr>\n",
       "      <th>4</th>\n",
       "      <td>10</td>\n",
       "      <td>17</td>\n",
       "      <td>498</td>\n",
       "      <td>811</td>\n",
       "      <td>3.0</td>\n",
       "      <td>0.0</td>\n",
       "      <td>1.0</td>\n",
       "      <td>4.0</td>\n",
       "      <td>3.0</td>\n",
       "      <td>Married</td>\n",
       "      <td>0</td>\n",
       "      <td>Grocery</td>\n",
       "      <td>0.000000</td>\n",
       "      <td>1.0</td>\n",
       "      <td>1.0</td>\n",
       "      <td>0.000000</td>\n",
       "      <td>Y</td>\n",
       "      <td>2013-07-29</td>\n",
       "      <td>2013-08-30</td>\n",
       "      <td>0</td>\n",
       "    </tr>\n",
       "  </tbody>\n",
       "</table>\n",
       "</div>"
      ],
      "text/plain": [
       "   id  campaign_id  coupon_id  customer_id  age_range  rented  family_size  \\\n",
       "0   3           22        869          967        2.0     0.0          0.0   \n",
       "1   4           20        389         1566        1.0     0.0          1.0   \n",
       "2   5           22        981          510        1.0     0.0          1.0   \n",
       "3   8           25       1069          361        0.0     0.0          0.0   \n",
       "4  10           17        498          811        3.0     0.0          1.0   \n",
       "\n",
       "   income_bracket no_of_children marital_status  no_of_redemptions  \\\n",
       "0             4.0              1         Single               1078   \n",
       "1             8.0              1         Single                108   \n",
       "2             0.0              1         Single                336   \n",
       "3             2.0              1         Single                  0   \n",
       "4             4.0            3.0        Married                  0   \n",
       "\n",
       "  category_mod  other_discount_mean  quantity  brand_type  \\\n",
       "0      Grocery            -8.293571       1.0         1.0   \n",
       "1      Grocery           -78.010000       1.5         1.0   \n",
       "2      Grocery           -99.140000       1.0         1.0   \n",
       "3      Grocery             0.000000       1.0         1.0   \n",
       "4      Grocery             0.000000       1.0         1.0   \n",
       "\n",
       "   coupon_discount_mean campaign_type  start_date    end_date  \\\n",
       "0            -23.025714             X  2013-09-16  2013-10-18   \n",
       "1            -62.335000             Y  2013-07-09  2013-11-16   \n",
       "2            -53.430000             X  2013-09-16  2013-10-18   \n",
       "3              0.000000             Y  2013-10-21  2013-11-22   \n",
       "4              0.000000             Y  2013-07-29  2013-08-30   \n",
       "\n",
       "   no_of_redemptions_real  \n",
       "0                       3  \n",
       "1                       0  \n",
       "2                       7  \n",
       "3                       0  \n",
       "4                       0  "
      ]
     },
     "execution_count": 7,
     "metadata": {},
     "output_type": "execute_result"
    }
   ],
   "source": [
    "test.head()"
   ]
  },
  {
   "cell_type": "code",
   "execution_count": 8,
   "metadata": {},
   "outputs": [
    {
     "data": {
      "text/plain": [
       "id                        0\n",
       "campaign_id               0\n",
       "coupon_id                 0\n",
       "customer_id               0\n",
       "redemption_status         0\n",
       "age_range                 0\n",
       "rented                    0\n",
       "family_size               0\n",
       "income_bracket            0\n",
       "no_of_children            0\n",
       "marital_status            0\n",
       "campaign_type             0\n",
       "start_date                0\n",
       "end_date                  0\n",
       "no_of_redemptions         0\n",
       "coupon_discount_med       0\n",
       "category_mod              0\n",
       "campaign_period           0\n",
       "coupon_discount_mean      0\n",
       "other_discount_mean       0\n",
       "quantity                  0\n",
       "brand_type                0\n",
       "no_of_redemptions_real    0\n",
       "dtype: int64"
      ]
     },
     "execution_count": 8,
     "metadata": {},
     "output_type": "execute_result"
    }
   ],
   "source": [
    "train.isna().sum()"
   ]
  },
  {
   "cell_type": "code",
   "execution_count": 9,
   "metadata": {},
   "outputs": [
    {
     "data": {
      "text/plain": [
       "id                        0\n",
       "campaign_id               0\n",
       "coupon_id                 0\n",
       "customer_id               0\n",
       "age_range                 0\n",
       "rented                    0\n",
       "family_size               0\n",
       "income_bracket            0\n",
       "no_of_children            0\n",
       "marital_status            0\n",
       "no_of_redemptions         0\n",
       "category_mod              0\n",
       "other_discount_mean       0\n",
       "quantity                  0\n",
       "brand_type                0\n",
       "coupon_discount_mean      0\n",
       "campaign_type             0\n",
       "start_date                0\n",
       "end_date                  0\n",
       "no_of_redemptions_real    0\n",
       "dtype: int64"
      ]
     },
     "execution_count": 9,
     "metadata": {},
     "output_type": "execute_result"
    }
   ],
   "source": [
    "test.isna().sum()"
   ]
  },
  {
   "cell_type": "code",
   "execution_count": 10,
   "metadata": {},
   "outputs": [
    {
     "data": {
      "text/plain": [
       "0        1.0\n",
       "1        1.0\n",
       "2        1.0\n",
       "3        1.0\n",
       "4        1.0\n",
       "5        1.0\n",
       "6        1.0\n",
       "7        1.0\n",
       "8        1.0\n",
       "9        1.0\n",
       "10       1.0\n",
       "11       1.0\n",
       "12       1.0\n",
       "13       1.0\n",
       "14       1.0\n",
       "15       1.0\n",
       "16       1.0\n",
       "17       1.0\n",
       "18       1.0\n",
       "19       1.0\n",
       "20       1.0\n",
       "21       1.0\n",
       "22       1.0\n",
       "23       1.0\n",
       "24       1.0\n",
       "25       1.0\n",
       "26       1.0\n",
       "27       1.0\n",
       "28       1.0\n",
       "29       1.0\n",
       "        ... \n",
       "50196    1.0\n",
       "50197    1.0\n",
       "50198    1.0\n",
       "50199    1.0\n",
       "50200    1.0\n",
       "50201    1.0\n",
       "50202    1.0\n",
       "50203    1.0\n",
       "50204    1.0\n",
       "50205    1.0\n",
       "50206    1.0\n",
       "50207    1.0\n",
       "50208    1.0\n",
       "50209    1.0\n",
       "50210    1.0\n",
       "50211    1.0\n",
       "50212    1.0\n",
       "50213    1.0\n",
       "50214    1.0\n",
       "50215    1.0\n",
       "50216    1.0\n",
       "50217    1.0\n",
       "50218    1.0\n",
       "50219    1.0\n",
       "50220    1.0\n",
       "50221    1.0\n",
       "50222    1.0\n",
       "50223    1.0\n",
       "50224    1.0\n",
       "50225    1.0\n",
       "Name: brand_type, Length: 50226, dtype: float64"
      ]
     },
     "execution_count": 10,
     "metadata": {},
     "output_type": "execute_result"
    }
   ],
   "source": [
    "test['brand_type']"
   ]
  },
  {
   "cell_type": "code",
   "execution_count": 11,
   "metadata": {},
   "outputs": [
    {
     "data": {
      "text/plain": [
       "Index(['id', 'campaign_id', 'coupon_id', 'customer_id', 'redemption_status',\n",
       "       'age_range', 'rented', 'family_size', 'income_bracket',\n",
       "       'no_of_children', 'marital_status', 'campaign_type', 'start_date',\n",
       "       'end_date', 'no_of_redemptions', 'coupon_discount_med', 'category_mod',\n",
       "       'campaign_period', 'coupon_discount_mean', 'other_discount_mean',\n",
       "       'quantity', 'brand_type', 'no_of_redemptions_real'],\n",
       "      dtype='object')"
      ]
     },
     "execution_count": 11,
     "metadata": {},
     "output_type": "execute_result"
    }
   ],
   "source": [
    "train.columns"
   ]
  },
  {
   "cell_type": "code",
   "execution_count": 12,
   "metadata": {},
   "outputs": [
    {
     "data": {
      "text/plain": [
       "Index(['id', 'campaign_id', 'coupon_id', 'customer_id', 'age_range', 'rented',\n",
       "       'family_size', 'income_bracket', 'no_of_children', 'marital_status',\n",
       "       'no_of_redemptions', 'category_mod', 'other_discount_mean', 'quantity',\n",
       "       'brand_type', 'coupon_discount_mean', 'campaign_type', 'start_date',\n",
       "       'end_date', 'no_of_redemptions_real'],\n",
       "      dtype='object')"
      ]
     },
     "execution_count": 12,
     "metadata": {},
     "output_type": "execute_result"
    }
   ],
   "source": [
    "test.columns"
   ]
  },
  {
   "cell_type": "code",
   "execution_count": 13,
   "metadata": {},
   "outputs": [],
   "source": [
    "train['start_date']=pd.to_datetime(train['start_date'].astype('str'),dayfirst=True)\n",
    "train['end_date']=pd.to_datetime(train['end_date'].astype('str'),dayfirst=True)"
   ]
  },
  {
   "cell_type": "code",
   "execution_count": 14,
   "metadata": {},
   "outputs": [],
   "source": [
    "train['#_days_of_campaign']=(train['start_date']-train['end_date']).dt.days.astype('int16')"
   ]
  },
  {
   "cell_type": "code",
   "execution_count": 15,
   "metadata": {},
   "outputs": [],
   "source": [
    "train.drop(['start_date','end_date'],axis=1,inplace=True)"
   ]
  },
  {
   "cell_type": "code",
   "execution_count": 16,
   "metadata": {},
   "outputs": [],
   "source": [
    "test['start_date']=pd.to_datetime(test['start_date'].astype('str'),dayfirst=True)\n",
    "test['end_date']=pd.to_datetime(test['end_date'].astype('str'),dayfirst=True)\n",
    "test['#_days_of_campaign']=(test['start_date']-test['end_date']).dt.days.astype('int16')"
   ]
  },
  {
   "cell_type": "code",
   "execution_count": 17,
   "metadata": {},
   "outputs": [],
   "source": [
    "test.drop(['start_date','end_date'],axis=1,inplace=True)"
   ]
  },
  {
   "cell_type": "markdown",
   "metadata": {},
   "source": [
    "#### Converting Marital status into Numerical data by label encoding"
   ]
  },
  {
   "cell_type": "code",
   "execution_count": 18,
   "metadata": {},
   "outputs": [],
   "source": [
    "train['marital_status']=train['marital_status'].map({'Married':1,'Single':0})\n",
    "test['marital_status']=test['marital_status'].map({'Married':1,'Single':0})"
   ]
  },
  {
   "cell_type": "markdown",
   "metadata": {},
   "source": [
    "#### Converting Campaign type into Numerical data by label encoding"
   ]
  },
  {
   "cell_type": "code",
   "execution_count": 19,
   "metadata": {},
   "outputs": [],
   "source": [
    "train['campaign_type']=train['campaign_type'].map({'X':1,'Y':0})\n",
    "test['campaign_type']=test['campaign_type'].map({'X':1,'Y':0})"
   ]
  },
  {
   "cell_type": "code",
   "execution_count": 20,
   "metadata": {},
   "outputs": [
    {
     "data": {
      "text/plain": [
       "1      36145\n",
       "3.0    34708\n",
       "3+      3969\n",
       "2       3547\n",
       "Name: no_of_children, dtype: int64"
      ]
     },
     "execution_count": 20,
     "metadata": {},
     "output_type": "execute_result"
    }
   ],
   "source": [
    "train.no_of_children.value_counts()"
   ]
  },
  {
   "cell_type": "code",
   "execution_count": 21,
   "metadata": {},
   "outputs": [],
   "source": [
    "def process_childrens(df):\n",
    "    df['Single_child'] = df['no_of_children'].map(lambda d: 1 if d=='1' else 0)\n",
    "    df['two_child'] = df['no_of_children'].map(lambda d: 1 if d=='2' else 0)\n",
    "    df['three_child'] = df['no_of_children'].map(lambda d: 1 if d=='3' else 0)\n",
    "    df['3+_children']=df['no_of_children'].map(lambda d:1 if d=='3+' else 0)\n",
    "    df.drop(['no_of_children'], axis=1, inplace=True)"
   ]
  },
  {
   "cell_type": "code",
   "execution_count": 22,
   "metadata": {},
   "outputs": [],
   "source": [
    "process_childrens(train)\n",
    "process_childrens(test)"
   ]
  },
  {
   "cell_type": "code",
   "execution_count": 23,
   "metadata": {},
   "outputs": [
    {
     "data": {
      "text/plain": [
       "Established    78187\n",
       "Local            182\n",
       "Name: brand_type, dtype: int64"
      ]
     },
     "execution_count": 23,
     "metadata": {},
     "output_type": "execute_result"
    }
   ],
   "source": [
    "train.brand_type.value_counts()"
   ]
  },
  {
   "cell_type": "code",
   "execution_count": 24,
   "metadata": {},
   "outputs": [],
   "source": [
    "train['brand_type']=train['brand_type'].map({'Established':1,'Local':0})\n",
    "test['brand_type']=test['brand_type'].map({'Established':1,'Local':0})"
   ]
  },
  {
   "cell_type": "code",
   "execution_count": 25,
   "metadata": {},
   "outputs": [],
   "source": [
    "train.drop(['campaign_period','coupon_discount_med'],axis=1,inplace=True)"
   ]
  },
  {
   "cell_type": "code",
   "execution_count": 26,
   "metadata": {},
   "outputs": [
    {
     "data": {
      "text/plain": [
       "Grocery             73577\n",
       "Pharmaceutical       3019\n",
       "Prepared Food         761\n",
       "Packaged Meat         756\n",
       "Natural Products      137\n",
       "Bakery                 76\n",
       "Miscellaneous          43\n",
       "Name: category_mod, dtype: int64"
      ]
     },
     "execution_count": 26,
     "metadata": {},
     "output_type": "execute_result"
    }
   ],
   "source": [
    "train.category_mod.value_counts()"
   ]
  },
  {
   "cell_type": "code",
   "execution_count": 27,
   "metadata": {},
   "outputs": [],
   "source": [
    "def process_category(df):\n",
    "    df['Grocery_category_mod']=df['category_mod'].map(lambda d:1 if d=='Grocery' else 0)\n",
    "    df['Pharmaceutical_category_mod']=df['category_mod'].map(lambda d:1 if d=='Pharmaceutical' else 0)\n",
    "    df['Prepared_Food_category_mod']=df['category_mod'].map(lambda d:1 if d=='Prepared Food' else 0)\n",
    "    df['Prepared_Food_category_mod']=df['category_mod'].map(lambda d:1 if d=='Prepared Food' else 0)\n",
    "    df['Natural_Productscategory_mod']=df['category_mod'].map(lambda d:1 if d=='Natural Products' else 0)\n",
    "    df['Bakery_category_mod']=df['category_mod'].map(lambda d:1 if d=='Bakery' else 0)\n",
    "    df['Miscellaneous_category_mod']=df['category_mod'].map(lambda d:1 if d=='Miscellaneous' else 0)\n",
    "    df.drop('category_mod',axis=1,inplace=True)\n",
    "    "
   ]
  },
  {
   "cell_type": "code",
   "execution_count": 28,
   "metadata": {},
   "outputs": [],
   "source": [
    "process_category(train)\n",
    "process_category(test)"
   ]
  },
  {
   "cell_type": "code",
   "execution_count": 29,
   "metadata": {},
   "outputs": [],
   "source": [
    "K=test"
   ]
  },
  {
   "cell_type": "code",
   "execution_count": 30,
   "metadata": {},
   "outputs": [
    {
     "name": "stdout",
     "output_type": "stream",
     "text": [
      "Shape of Train dataset (78369, 28)\n",
      "Shape of Test dataset (50226, 27)\n"
     ]
    }
   ],
   "source": [
    "print('Shape of Train dataset {}'.format(train.shape))\n",
    "print('Shape of Test dataset {}'.format(test.shape))"
   ]
  },
  {
   "cell_type": "code",
   "execution_count": 31,
   "metadata": {},
   "outputs": [
    {
     "data": {
      "text/plain": [
       "Index(['id', 'campaign_id', 'coupon_id', 'customer_id', 'redemption_status',\n",
       "       'age_range', 'rented', 'family_size', 'income_bracket',\n",
       "       'marital_status', 'campaign_type', 'no_of_redemptions',\n",
       "       'coupon_discount_mean', 'other_discount_mean', 'quantity', 'brand_type',\n",
       "       'no_of_redemptions_real', '#_days_of_campaign', 'Single_child',\n",
       "       'two_child', 'three_child', '3+_children', 'Grocery_category_mod',\n",
       "       'Pharmaceutical_category_mod', 'Prepared_Food_category_mod',\n",
       "       'Natural_Productscategory_mod', 'Bakery_category_mod',\n",
       "       'Miscellaneous_category_mod'],\n",
       "      dtype='object')"
      ]
     },
     "execution_count": 31,
     "metadata": {},
     "output_type": "execute_result"
    }
   ],
   "source": [
    "train.columns"
   ]
  },
  {
   "cell_type": "code",
   "execution_count": 32,
   "metadata": {},
   "outputs": [],
   "source": [
    "X=train.drop(['id', 'campaign_id', 'coupon_id', 'customer_id', 'redemption_status','Single_child'],axis=1)\n",
    "Y=train['redemption_status']"
   ]
  },
  {
   "cell_type": "markdown",
   "metadata": {},
   "source": [
    "## Prediction process"
   ]
  },
  {
   "cell_type": "markdown",
   "metadata": {},
   "source": [
    "from sklearn.preprocessing import StandardScaler\n",
    "SS=StandardScaler()\n",
    "X=SS.fit_transform(X)\n",
    "X"
   ]
  },
  {
   "cell_type": "code",
   "execution_count": 33,
   "metadata": {},
   "outputs": [],
   "source": [
    "from sklearn.linear_model import LogisticRegression\n",
    "from sklearn.tree import DecisionTreeClassifier\n",
    "from sklearn.svm import SVC\n",
    "from sklearn.ensemble import RandomForestClassifier,AdaBoostClassifier\n",
    "from xgboost import XGBClassifier\n",
    "from sklearn.neighbors import KNeighborsClassifier\n",
    "from sklearn.metrics import accuracy_score\n",
    "from sklearn.model_selection import train_test_split\n",
    "from sklearn.linear_model import LogisticRegression\n",
    "from sklearn.metrics import accuracy_score\n",
    "from sklearn.metrics import roc_curve, auc, classification_report, confusion_matrix\n",
    "import time\n",
    "from sklearn import linear_model, neighbors\n",
    "from sklearn.model_selection import cross_val_score\n",
    "from sklearn.ensemble import BaggingClassifier\n",
    "from sklearn.model_selection import GridSearchCV\n",
    "from sklearn.metrics import roc_auc_score\n",
    "from sklearn.metrics import precision_score"
   ]
  },
  {
   "cell_type": "markdown",
   "metadata": {},
   "source": [
    "###### model1a = LogisticRegression(C=0.1, class_weight=None, dual=False, fit_intercept=True,\n",
    "                             intercept_scaling=1, l1_ratio=None, max_iter=100,\n",
    "                             multi_class='warn', n_jobs=None, penalty='l2',\n",
    "                             random_state=None, solver='warn', tol=0.001, verbose=0,\n",
    "                             warm_start=False)\n",
    "model2a = RandomForestClassifier(bootstrap=True, class_weight=None, criterion='gini',\n",
    "                                 max_depth=3, max_features='auto', max_leaf_nodes=None,\n",
    "                                 min_impurity_decrease=0.0, min_impurity_split=None,\n",
    "                                 min_samples_leaf=1, min_samples_split=2,\n",
    "                                 min_weight_fraction_leaf=0.0, n_estimators=10,\n",
    "                                 n_jobs=None, oob_score=False, random_state=0, verbose=0,\n",
    "                                 warm_start=False)\n",
    "model3a = XGBClassifier(base_score=0.5, booster='gbtree', colsample_bylevel=1,\n",
    "                        colsample_bynode=1, colsample_bytree=1, gamma=0,\n",
    "                        learning_rate=0.1, max_delta_step=0, max_depth=3,\n",
    "                        min_child_weight=1, missing=None, n_estimators=10, n_jobs=1,\n",
    "                        nthread=None, objective='binary:logistic', random_state=0,\n",
    "                        reg_alpha=0, reg_lambda=1, scale_pos_weight=1, seed=None,\n",
    "                        silent=None, subsample=1, verbosity=1)\n"
   ]
  },
  {
   "cell_type": "code",
   "execution_count": 34,
   "metadata": {},
   "outputs": [
    {
     "name": "stdout",
     "output_type": "stream",
     "text": [
      "99.02067117519458\n"
     ]
    }
   ],
   "source": [
    "X_train, X_test, Y_train, Y_test = train_test_split(X, Y, test_size=0.40,random_state=20)\n",
    "model = LogisticRegression()\n",
    "model.fit(X_train, Y_train)\n",
    "result = model.score(X_test, Y_test)\n",
    "print(result*100.0)"
   ]
  },
  {
   "cell_type": "code",
   "execution_count": 35,
   "metadata": {},
   "outputs": [
    {
     "name": "stdout",
     "output_type": "stream",
     "text": [
      "0.8963436023177566 0.007506702072325773\n"
     ]
    }
   ],
   "source": [
    "model = LogisticRegression()\n",
    "scoring = 'roc_auc'\n",
    "results = cross_val_score(model, X, Y, scoring=scoring)\n",
    "print(results.mean(), results.std())"
   ]
  },
  {
   "cell_type": "code",
   "execution_count": 36,
   "metadata": {},
   "outputs": [],
   "source": [
    "from sklearn.metrics import precision_score, \\\n",
    "    recall_score, confusion_matrix, classification_report, \\\n",
    "    accuracy_score, f1_score\n",
    "clf = LogisticRegression(solver = 'lbfgs')\n",
    "# fit the model\n",
    "clf.fit(X_train, Y_train.ravel())\n",
    "\n",
    "# prediction for training dataset\n",
    "train_pred = clf.predict(X_train)\n",
    "\n",
    "# prediction for testing dataset\n",
    "test_pred = clf.predict(X_test)"
   ]
  },
  {
   "cell_type": "code",
   "execution_count": 37,
   "metadata": {},
   "outputs": [
    {
     "name": "stdout",
     "output_type": "stream",
     "text": [
      "Confusion Matrix - Training Dataset\n",
      "Predicted      0    All\n",
      "True                   \n",
      "0          46599  46599\n",
      "1            422    422\n",
      "All        47021  47021\n"
     ]
    }
   ],
   "source": [
    "print('Confusion Matrix - Training Dataset')\n",
    "print(pd.crosstab(Y_train.ravel(), train_pred, rownames = ['True'], colnames = ['Predicted'], margins = True))"
   ]
  },
  {
   "cell_type": "code",
   "execution_count": 38,
   "metadata": {},
   "outputs": [
    {
     "name": "stdout",
     "output_type": "stream",
     "text": [
      "Accuracy: 0.9902067117519459\n",
      "F1 score: 0.0\n",
      "Recall: 0.0\n",
      "Precision: 0.0\n",
      "\n",
      " clasification report:\n",
      "               precision    recall  f1-score   support\n",
      "\n",
      "           0       0.99      1.00      1.00     31041\n",
      "           1       0.00      0.00      0.00       307\n",
      "\n",
      "    accuracy                           0.99     31348\n",
      "   macro avg       0.50      0.50      0.50     31348\n",
      "weighted avg       0.98      0.99      0.99     31348\n",
      "\n",
      "\n",
      " confussion matrix:\n",
      " [[31041     0]\n",
      " [  307     0]]\n"
     ]
    }
   ],
   "source": [
    "print ('Accuracy:', accuracy_score(Y_test, test_pred))\n",
    "print ('F1 score:', f1_score(Y_test, test_pred))\n",
    "print ('Recall:', recall_score(Y_test, test_pred))\n",
    "print ('Precision:', precision_score(Y_test, test_pred))\n",
    "print ('\\n clasification report:\\n', classification_report(Y_test,test_pred))\n",
    "print ('\\n confussion matrix:\\n',confusion_matrix(Y_test, test_pred))"
   ]
  },
  {
   "cell_type": "code",
   "execution_count": 39,
   "metadata": {},
   "outputs": [
    {
     "name": "stdout",
     "output_type": "stream",
     "text": [
      "0.8327427103673598 0.0035694183042038856\n"
     ]
    }
   ],
   "source": [
    "model = DecisionTreeClassifier()\n",
    "scoring = 'roc_auc'\n",
    "results = cross_val_score(model, X, Y, scoring=scoring)\n",
    "print(results.mean(), results.std())"
   ]
  },
  {
   "cell_type": "code",
   "execution_count": 40,
   "metadata": {},
   "outputs": [
    {
     "data": {
      "text/plain": [
       "DecisionTreeClassifier(class_weight=None, criterion='gini', max_depth=None,\n",
       "                       max_features=None, max_leaf_nodes=None,\n",
       "                       min_impurity_decrease=0.0, min_impurity_split=None,\n",
       "                       min_samples_leaf=1, min_samples_split=2,\n",
       "                       min_weight_fraction_leaf=0.0, presort=False,\n",
       "                       random_state=None, splitter='best')"
      ]
     },
     "execution_count": 40,
     "metadata": {},
     "output_type": "execute_result"
    }
   ],
   "source": [
    "model"
   ]
  },
  {
   "cell_type": "code",
   "execution_count": 41,
   "metadata": {},
   "outputs": [
    {
     "name": "stdout",
     "output_type": "stream",
     "text": [
      "0.9173619459232546 0.008289835987378638\n"
     ]
    }
   ],
   "source": [
    "model = RandomForestClassifier(criterion='entropy', max_depth = 5, max_leaf_nodes = 6, min_samples_leaf = 2, min_samples_split = 2)\n",
    "scoring = 'roc_auc'\n",
    "results = cross_val_score(model, X, Y, scoring=scoring)\n",
    "print(results.mean(), results.std())"
   ]
  },
  {
   "cell_type": "code",
   "execution_count": 42,
   "metadata": {},
   "outputs": [
    {
     "name": "stdout",
     "output_type": "stream",
     "text": [
      "0.9311119644746354 0.0018956058332784192\n"
     ]
    }
   ],
   "source": [
    "from sklearn.ensemble import GradientBoostingClassifier\n",
    "model = GradientBoostingClassifier()\n",
    "scoring = 'roc_auc'\n",
    "results = cross_val_score(model, X, Y, scoring=scoring)\n",
    "print(results.mean(), results.std())"
   ]
  },
  {
   "cell_type": "code",
   "execution_count": 43,
   "metadata": {},
   "outputs": [],
   "source": [
    "from sklearn.model_selection import GridSearchCV"
   ]
  },
  {
   "cell_type": "code",
   "execution_count": 44,
   "metadata": {},
   "outputs": [
    {
     "name": "stdout",
     "output_type": "stream",
     "text": [
      "{'criterion': 'gini', 'max_depth': 5, 'max_leaf_nodes': 6, 'min_samples_leaf': 2, 'min_samples_split': 2}\n"
     ]
    }
   ],
   "source": [
    "parameters = {'max_depth':[5,10,20,50,100], 'min_samples_leaf':[2,3,4], 'max_leaf_nodes':[6,7,8], 'criterion':['gini','entropy'],\n",
    "             'min_samples_split':[2,3,4]}\n",
    "DecisionTree = DecisionTreeClassifier()\n",
    "grid_search = GridSearchCV(DecisionTree,parameters)\n",
    "grid_search.fit(X_train, Y_train)\n",
    "\n",
    "print(grid_search.best_params_)"
   ]
  },
  {
   "cell_type": "code",
   "execution_count": 45,
   "metadata": {},
   "outputs": [
    {
     "name": "stdout",
     "output_type": "stream",
     "text": [
      "The ROC AUC on testing set is: 0.921271\n"
     ]
    }
   ],
   "source": [
    "from sklearn.metrics import roc_auc_score\n",
    "Decision_Tree_best = grid_search.best_estimator_\n",
    "pos_prob = Decision_Tree_best.predict_proba(X_test)[:,1]\n",
    "print('The ROC AUC on testing set is: {0:3f}'.format(roc_auc_score(Y_test, pos_prob)))"
   ]
  },
  {
   "cell_type": "markdown",
   "metadata": {},
   "source": [
    "## Training data"
   ]
  },
  {
   "cell_type": "code",
   "execution_count": 46,
   "metadata": {},
   "outputs": [
    {
     "name": "stdout",
     "output_type": "stream",
     "text": [
      "redemption_status\n"
     ]
    }
   ],
   "source": [
    "for i in train.columns:\n",
    "    if i not in test.columns:\n",
    "        print(i)"
   ]
  },
  {
   "cell_type": "code",
   "execution_count": 47,
   "metadata": {},
   "outputs": [],
   "source": [
    "for i in test.columns:\n",
    "    if i not in train.columns:\n",
    "        print(i)"
   ]
  },
  {
   "cell_type": "markdown",
   "metadata": {},
   "source": [
    "## Test data"
   ]
  },
  {
   "cell_type": "code",
   "execution_count": 48,
   "metadata": {},
   "outputs": [],
   "source": [
    "Z=test.drop(['brand_type','id','campaign_id','customer_id','coupon_id'],axis=1)"
   ]
  },
  {
   "cell_type": "code",
   "execution_count": 49,
   "metadata": {},
   "outputs": [],
   "source": [
    "y_predict=clf.predict(Z)"
   ]
  },
  {
   "cell_type": "code",
   "execution_count": 50,
   "metadata": {},
   "outputs": [
    {
     "data": {
      "text/plain": [
       "array([1, 1, 1, ..., 1, 1, 1], dtype=int64)"
      ]
     },
     "execution_count": 50,
     "metadata": {},
     "output_type": "execute_result"
    }
   ],
   "source": [
    "y_predict"
   ]
  },
  {
   "cell_type": "code",
   "execution_count": 51,
   "metadata": {},
   "outputs": [
    {
     "data": {
      "text/plain": [
       "50226"
      ]
     },
     "execution_count": 51,
     "metadata": {},
     "output_type": "execute_result"
    }
   ],
   "source": [
    "len(y_predict)"
   ]
  },
  {
   "cell_type": "code",
   "execution_count": 52,
   "metadata": {},
   "outputs": [],
   "source": [
    "test['redemption_status']=y_predict"
   ]
  },
  {
   "cell_type": "code",
   "execution_count": 53,
   "metadata": {},
   "outputs": [
    {
     "data": {
      "text/plain": [
       "Index(['id', 'campaign_id', 'coupon_id', 'customer_id', 'age_range', 'rented',\n",
       "       'family_size', 'income_bracket', 'marital_status', 'no_of_redemptions',\n",
       "       'other_discount_mean', 'quantity', 'brand_type', 'coupon_discount_mean',\n",
       "       'campaign_type', 'no_of_redemptions_real', '#_days_of_campaign',\n",
       "       'Single_child', 'two_child', 'three_child', '3+_children',\n",
       "       'Grocery_category_mod', 'Pharmaceutical_category_mod',\n",
       "       'Prepared_Food_category_mod', 'Natural_Productscategory_mod',\n",
       "       'Bakery_category_mod', 'Miscellaneous_category_mod',\n",
       "       'redemption_status'],\n",
       "      dtype='object')"
      ]
     },
     "execution_count": 53,
     "metadata": {},
     "output_type": "execute_result"
    }
   ],
   "source": [
    "test.columns"
   ]
  },
  {
   "cell_type": "code",
   "execution_count": 54,
   "metadata": {},
   "outputs": [],
   "source": [
    "test=pd.read_csv('test_processed4.csv')"
   ]
  },
  {
   "cell_type": "code",
   "execution_count": 55,
   "metadata": {},
   "outputs": [],
   "source": [
    "test['redemption_status']=y_predict"
   ]
  },
  {
   "cell_type": "code",
   "execution_count": 56,
   "metadata": {},
   "outputs": [],
   "source": [
    "df=test.loc[:,['id','redemption_status']]"
   ]
  },
  {
   "cell_type": "code",
   "execution_count": 57,
   "metadata": {},
   "outputs": [],
   "source": [
    "df.to_csv('submission_AmEx.csv')"
   ]
  },
  {
   "cell_type": "code",
   "execution_count": null,
   "metadata": {},
   "outputs": [],
   "source": []
  }
 ],
 "metadata": {
  "kernelspec": {
   "display_name": "Python 3",
   "language": "python",
   "name": "python3"
  },
  "language_info": {
   "codemirror_mode": {
    "name": "ipython",
    "version": 3
   },
   "file_extension": ".py",
   "mimetype": "text/x-python",
   "name": "python",
   "nbconvert_exporter": "python",
   "pygments_lexer": "ipython3",
   "version": "3.7.3"
  }
 },
 "nbformat": 4,
 "nbformat_minor": 2
}
